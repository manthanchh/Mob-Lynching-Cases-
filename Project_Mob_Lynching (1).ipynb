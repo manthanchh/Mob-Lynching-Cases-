{
  "nbformat": 4,
  "nbformat_minor": 0,
  "metadata": {
    "colab": {
      "name": "Project : Mob Lynching",
      "provenance": [],
      "collapsed_sections": []
    },
    "kernelspec": {
      "name": "python3",
      "display_name": "Python 3"
    }
  },
  "cells": [
    {
      "cell_type": "markdown",
      "metadata": {
        "id": "lx5KIXKCo3cZ",
        "colab_type": "text"
      },
      "source": [
        "# **Analysis of Mob Lynching Cases in India**"
      ]
    },
    {
      "cell_type": "code",
      "metadata": {
        "id": "PExW6Tt_q1br",
        "colab_type": "code",
        "colab": {}
      },
      "source": [
        "import numpy as np\n",
        "import pandas as pd\n",
        "import matplotlib.pyplot as plt\n",
        "%matplotlib inline"
      ],
      "execution_count": 133,
      "outputs": []
    },
    {
      "cell_type": "code",
      "metadata": {
        "id": "AR5zTgaHrDBD",
        "colab_type": "code",
        "colab": {
          "base_uri": "https://localhost:8080/",
          "height": 241
        },
        "outputId": "81060401-7d9f-46f8-867b-1bbb7ff155b8"
      },
      "source": [
        "df = pd.read_csv(\"MLData.csv\")\n",
        "print('Number of rows in the dataframe : ',len(df.index),'\\n \\n')\n",
        "df.head(5)"
      ],
      "execution_count": 134,
      "outputs": [
        {
          "output_type": "stream",
          "text": [
            "Number of rows in the dataframe :  141 \n",
            " \n",
            "\n"
          ],
          "name": "stdout"
        },
        {
          "output_type": "execute_result",
          "data": {
            "text/html": [
              "<div>\n",
              "<style scoped>\n",
              "    .dataframe tbody tr th:only-of-type {\n",
              "        vertical-align: middle;\n",
              "    }\n",
              "\n",
              "    .dataframe tbody tr th {\n",
              "        vertical-align: top;\n",
              "    }\n",
              "\n",
              "    .dataframe thead th {\n",
              "        text-align: right;\n",
              "    }\n",
              "</style>\n",
              "<table border=\"1\" class=\"dataframe\">\n",
              "  <thead>\n",
              "    <tr style=\"text-align: right;\">\n",
              "      <th></th>\n",
              "      <th>Name</th>\n",
              "      <th>Date</th>\n",
              "      <th>Location</th>\n",
              "      <th>State /UT</th>\n",
              "      <th>Death</th>\n",
              "      <th>Reason</th>\n",
              "    </tr>\n",
              "  </thead>\n",
              "  <tbody>\n",
              "    <tr>\n",
              "      <th>0</th>\n",
              "      <td>Mohammad Akhlaq</td>\n",
              "      <td>28-09-2015</td>\n",
              "      <td>Dadri, Uttar Pradesh</td>\n",
              "      <td>Uttar Pradesh</td>\n",
              "      <td>Yes</td>\n",
              "      <td>accusation for harming cow</td>\n",
              "    </tr>\n",
              "    <tr>\n",
              "      <th>1</th>\n",
              "      <td>Zahid Ahmad Bhat</td>\n",
              "      <td>09-10-2015</td>\n",
              "      <td>Udhampur,Jammu</td>\n",
              "      <td>JammuAndKashmir(UT)</td>\n",
              "      <td>Yes</td>\n",
              "      <td>accusation for harming cow</td>\n",
              "    </tr>\n",
              "    <tr>\n",
              "      <th>2</th>\n",
              "      <td>Noman</td>\n",
              "      <td>15-10-2015</td>\n",
              "      <td>Sarahan,Himachal Pradesh</td>\n",
              "      <td>Himachal Pradesh</td>\n",
              "      <td>Yes</td>\n",
              "      <td>accusation for harming cow</td>\n",
              "    </tr>\n",
              "    <tr>\n",
              "      <th>3</th>\n",
              "      <td>Mohamaaed Hussain</td>\n",
              "      <td>13-01-2016</td>\n",
              "      <td>Khirkiya,Madhya Pradesh</td>\n",
              "      <td>Madhya Pradesh</td>\n",
              "      <td>No</td>\n",
              "      <td>accusation for harming cow</td>\n",
              "    </tr>\n",
              "    <tr>\n",
              "      <th>4</th>\n",
              "      <td>Naseem Bano</td>\n",
              "      <td>13-01-2016</td>\n",
              "      <td>Khirkiya,Madhya Pradesh</td>\n",
              "      <td>Madhya Pradesh</td>\n",
              "      <td>No</td>\n",
              "      <td>accusation for harming cow</td>\n",
              "    </tr>\n",
              "  </tbody>\n",
              "</table>\n",
              "</div>"
            ],
            "text/plain": [
              "                Name        Date  ... Death                      Reason\n",
              "0    Mohammad Akhlaq  28-09-2015  ...   Yes  accusation for harming cow\n",
              "1   Zahid Ahmad Bhat  09-10-2015  ...   Yes  accusation for harming cow\n",
              "2              Noman  15-10-2015  ...   Yes  accusation for harming cow\n",
              "3  Mohamaaed Hussain  13-01-2016  ...    No  accusation for harming cow\n",
              "4        Naseem Bano  13-01-2016  ...    No  accusation for harming cow\n",
              "\n",
              "[5 rows x 6 columns]"
            ]
          },
          "metadata": {
            "tags": []
          },
          "execution_count": 134
        }
      ]
    },
    {
      "cell_type": "markdown",
      "metadata": {
        "id": "VlFVwYWIqy1v",
        "colab_type": "text"
      },
      "source": [
        "# Data Preprocessing"
      ]
    },
    {
      "cell_type": "code",
      "metadata": {
        "id": "6JHlJtb_wxf5",
        "colab_type": "code",
        "colab": {
          "base_uri": "https://localhost:8080/",
          "height": 67
        },
        "outputId": "fff1a95c-ad36-4296-bd57-6f2df5a8404c"
      },
      "source": [
        "# Removing Meaningless Rows\n",
        "df.drop(df.index[[4,7,12,73]],inplace=True)\n",
        "df.reset_index(drop=True,inplace=True)\n",
        "print('Number of rows in the dataframe : ',len(df.index),'\\n \\n')"
      ],
      "execution_count": 135,
      "outputs": [
        {
          "output_type": "stream",
          "text": [
            "Number of rows in the dataframe :  137 \n",
            " \n",
            "\n"
          ],
          "name": "stdout"
        }
      ]
    },
    {
      "cell_type": "code",
      "metadata": {
        "id": "d3cCtkINx4oX",
        "colab_type": "code",
        "colab": {
          "base_uri": "https://localhost:8080/",
          "height": 75
        },
        "outputId": "2f36972b-51c0-4c3f-ff44-939ff7f7bb6a"
      },
      "source": [
        "# Changing the Names of the coulumns:\n",
        "df.columns = ['Victim\\'s Name','Date','Location','State/UT','Died','Reason']\n",
        "df.head(1)"
      ],
      "execution_count": 136,
      "outputs": [
        {
          "output_type": "execute_result",
          "data": {
            "text/html": [
              "<div>\n",
              "<style scoped>\n",
              "    .dataframe tbody tr th:only-of-type {\n",
              "        vertical-align: middle;\n",
              "    }\n",
              "\n",
              "    .dataframe tbody tr th {\n",
              "        vertical-align: top;\n",
              "    }\n",
              "\n",
              "    .dataframe thead th {\n",
              "        text-align: right;\n",
              "    }\n",
              "</style>\n",
              "<table border=\"1\" class=\"dataframe\">\n",
              "  <thead>\n",
              "    <tr style=\"text-align: right;\">\n",
              "      <th></th>\n",
              "      <th>Victim's Name</th>\n",
              "      <th>Date</th>\n",
              "      <th>Location</th>\n",
              "      <th>State/UT</th>\n",
              "      <th>Died</th>\n",
              "      <th>Reason</th>\n",
              "    </tr>\n",
              "  </thead>\n",
              "  <tbody>\n",
              "    <tr>\n",
              "      <th>0</th>\n",
              "      <td>Mohammad Akhlaq</td>\n",
              "      <td>28-09-2015</td>\n",
              "      <td>Dadri, Uttar Pradesh</td>\n",
              "      <td>Uttar Pradesh</td>\n",
              "      <td>Yes</td>\n",
              "      <td>accusation for harming cow</td>\n",
              "    </tr>\n",
              "  </tbody>\n",
              "</table>\n",
              "</div>"
            ],
            "text/plain": [
              "     Victim's Name        Date  ... Died                      Reason\n",
              "0  Mohammad Akhlaq  28-09-2015  ...  Yes  accusation for harming cow\n",
              "\n",
              "[1 rows x 6 columns]"
            ]
          },
          "metadata": {
            "tags": []
          },
          "execution_count": 136
        }
      ]
    },
    {
      "cell_type": "code",
      "metadata": {
        "id": "PjwrkDyryPba",
        "colab_type": "code",
        "colab": {}
      },
      "source": [
        "# Adding Literacy Rate of a State column:\n",
        "df['Literacy_Rate'] = df['State/UT']\n",
        "def f(x):\n",
        "  if x == 'Uttar Pradesh':\n",
        "    return 69;\n",
        "  elif x == 'Gujarat':\n",
        "    return 79;\n",
        "  elif x == 'Rajasthan':\n",
        "    return 67;\n",
        "  elif x == 'Jharkhand':\n",
        "    return 67;\n",
        "  elif x == 'West Bengal':\n",
        "    return 77;\n",
        "  elif x == 'Madhya Pradesh':\n",
        "    return 70;\n",
        "  elif x == 'Bihar':\n",
        "    return 63;\n",
        "  elif x == 'Assam':\n",
        "    return 73;\n",
        "  elif x == 'Maharashtra':\n",
        "    return 82;\n",
        "  elif x == 'JammuAndKashmir(UT)':\n",
        "    return 68;\n",
        "  elif x == 'Tripura':\n",
        "    return 87;\n",
        "  elif x == 'Haryana':\n",
        "    return 76;\n",
        "  elif x == 'Tamil Nadu':\n",
        "    return 80;\n",
        "  elif x == 'Karnataka':\n",
        "    return 75;\n",
        "  elif x == 'Andhra Pradesh':\n",
        "    return 67;\n",
        "  elif x == 'Delhi':\n",
        "    return 86;\n",
        "  elif x == 'Kerala':\n",
        "    return 93;\n",
        "  elif x == 'Himachal Pradesh':\n",
        "    return 83;\n",
        "  elif x == 'Chhattisgarh':\n",
        "    return 71;\n",
        "  elif x == 'Manipur':\n",
        "    return 79;\n",
        "  elif x == 'Telangana':\n",
        "    return 66;\n",
        "df['Literacy_Rate'] = df.Literacy_Rate.apply(f)"
      ],
      "execution_count": 137,
      "outputs": []
    },
    {
      "cell_type": "code",
      "metadata": {
        "id": "1fnTXMNGyjCK",
        "colab_type": "code",
        "colab": {}
      },
      "source": [
        "# Correcting Reason column:\n",
        "def f(a):\n",
        "  if a == 'accusation for harming cow':\n",
        "    return 'Illegal Practice on Cow';\n",
        "  elif a == 'Child-Lifter':\n",
        "    return 'Child-Lifting';\n",
        "  elif a == 'suspicious of Theft':\n",
        "    return 'Theft'\n",
        "  elif a == 'caste voilence ':\n",
        "    return 'Caste Voilence on them';\n",
        "  elif a == 'riot':\n",
        "    return 'Riot';\n",
        "  elif a == 'fight':\n",
        "    return 'Heated argument turned into fight';\n",
        "  elif a == 'braid chopper':\n",
        "    return 'Braid Chopper';\n",
        "  elif a == 'other cases':\n",
        "    return 'Others';\n",
        "\n",
        "df['Reason'] = df.Reason.apply(f)"
      ],
      "execution_count": 138,
      "outputs": []
    },
    {
      "cell_type": "code",
      "metadata": {
        "id": "hEwsMNgXyxC1",
        "colab_type": "code",
        "colab": {
          "base_uri": "https://localhost:8080/",
          "height": 201
        },
        "outputId": "401d7d4d-fed3-4ce5-ef40-7565bf673a84"
      },
      "source": [
        "# Checking Null Value Rows:\n",
        "print('Number of rows in the dataframe : ',len(df.index),'\\n \\n')\n",
        "df.isnull().sum()"
      ],
      "execution_count": 139,
      "outputs": [
        {
          "output_type": "stream",
          "text": [
            "Number of rows in the dataframe :  137 \n",
            " \n",
            "\n"
          ],
          "name": "stdout"
        },
        {
          "output_type": "execute_result",
          "data": {
            "text/plain": [
              "Victim's Name    26\n",
              "Date              0\n",
              "Location          0\n",
              "State/UT          1\n",
              "Died              9\n",
              "Reason            9\n",
              "Literacy_Rate     1\n",
              "dtype: int64"
            ]
          },
          "metadata": {
            "tags": []
          },
          "execution_count": 139
        }
      ]
    },
    {
      "cell_type": "code",
      "metadata": {
        "id": "u63RhTnKy9cI",
        "colab_type": "code",
        "colab": {
          "base_uri": "https://localhost:8080/",
          "height": 325
        },
        "outputId": "ea919088-f3c1-4004-c19e-036812b903f6"
      },
      "source": [
        "# Removing Meaningless columns:\n",
        "df.drop(['Victim\\'s Name','Location','Died'],axis=1,inplace=True)\n",
        "df.reset_index(drop=True,inplace=True)\n",
        "print('Number of rows in the dataframe : ',len(df.index),'\\n \\n')\n",
        "print(df.isnull().sum())\n",
        "df.head(5)"
      ],
      "execution_count": 140,
      "outputs": [
        {
          "output_type": "stream",
          "text": [
            "Number of rows in the dataframe :  137 \n",
            " \n",
            "\n",
            "Date             0\n",
            "State/UT         1\n",
            "Reason           9\n",
            "Literacy_Rate    1\n",
            "dtype: int64\n"
          ],
          "name": "stdout"
        },
        {
          "output_type": "execute_result",
          "data": {
            "text/html": [
              "<div>\n",
              "<style scoped>\n",
              "    .dataframe tbody tr th:only-of-type {\n",
              "        vertical-align: middle;\n",
              "    }\n",
              "\n",
              "    .dataframe tbody tr th {\n",
              "        vertical-align: top;\n",
              "    }\n",
              "\n",
              "    .dataframe thead th {\n",
              "        text-align: right;\n",
              "    }\n",
              "</style>\n",
              "<table border=\"1\" class=\"dataframe\">\n",
              "  <thead>\n",
              "    <tr style=\"text-align: right;\">\n",
              "      <th></th>\n",
              "      <th>Date</th>\n",
              "      <th>State/UT</th>\n",
              "      <th>Reason</th>\n",
              "      <th>Literacy_Rate</th>\n",
              "    </tr>\n",
              "  </thead>\n",
              "  <tbody>\n",
              "    <tr>\n",
              "      <th>0</th>\n",
              "      <td>28-09-2015</td>\n",
              "      <td>Uttar Pradesh</td>\n",
              "      <td>Illegal Practice on Cow</td>\n",
              "      <td>69.0</td>\n",
              "    </tr>\n",
              "    <tr>\n",
              "      <th>1</th>\n",
              "      <td>09-10-2015</td>\n",
              "      <td>JammuAndKashmir(UT)</td>\n",
              "      <td>Illegal Practice on Cow</td>\n",
              "      <td>68.0</td>\n",
              "    </tr>\n",
              "    <tr>\n",
              "      <th>2</th>\n",
              "      <td>15-10-2015</td>\n",
              "      <td>Himachal Pradesh</td>\n",
              "      <td>Illegal Practice on Cow</td>\n",
              "      <td>83.0</td>\n",
              "    </tr>\n",
              "    <tr>\n",
              "      <th>3</th>\n",
              "      <td>13-01-2016</td>\n",
              "      <td>Madhya Pradesh</td>\n",
              "      <td>Illegal Practice on Cow</td>\n",
              "      <td>70.0</td>\n",
              "    </tr>\n",
              "    <tr>\n",
              "      <th>4</th>\n",
              "      <td>31-01-2016</td>\n",
              "      <td>Kerala</td>\n",
              "      <td>Others</td>\n",
              "      <td>93.0</td>\n",
              "    </tr>\n",
              "  </tbody>\n",
              "</table>\n",
              "</div>"
            ],
            "text/plain": [
              "         Date             State/UT                   Reason  Literacy_Rate\n",
              "0  28-09-2015        Uttar Pradesh  Illegal Practice on Cow           69.0\n",
              "1  09-10-2015  JammuAndKashmir(UT)  Illegal Practice on Cow           68.0\n",
              "2  15-10-2015     Himachal Pradesh  Illegal Practice on Cow           83.0\n",
              "3  13-01-2016       Madhya Pradesh  Illegal Practice on Cow           70.0\n",
              "4  31-01-2016               Kerala                   Others           93.0"
            ]
          },
          "metadata": {
            "tags": []
          },
          "execution_count": 140
        }
      ]
    },
    {
      "cell_type": "code",
      "metadata": {
        "id": "dSUafu4rzYib",
        "colab_type": "code",
        "colab": {
          "base_uri": "https://localhost:8080/",
          "height": 33
        },
        "outputId": "ae5acd7f-73ec-46a0-f3a7-277ee1850ee2"
      },
      "source": [
        "# To check the index of a row containing a Null Value\n",
        "df[df['Literacy_Rate'].isnull()].index.tolist()"
      ],
      "execution_count": 141,
      "outputs": [
        {
          "output_type": "execute_result",
          "data": {
            "text/plain": [
              "[59]"
            ]
          },
          "metadata": {
            "tags": []
          },
          "execution_count": 141
        }
      ]
    },
    {
      "cell_type": "code",
      "metadata": {
        "id": "0PnXJpqs0R2w",
        "colab_type": "code",
        "colab": {
          "base_uri": "https://localhost:8080/",
          "height": 342
        },
        "outputId": "f3aa4ecb-5682-4aa7-997d-e260607e8ede"
      },
      "source": [
        "# Removing rows with NaN values:\n",
        "df.dropna(inplace=True)\n",
        "df.reset_index(drop=True,inplace=True)\n",
        "print('Number of rows in the dataframe : ',len(df.index),'\\n \\n')\n",
        "print('Number of NaN in each column:\\n',df.isnull().sum())\n",
        "df.head()"
      ],
      "execution_count": 142,
      "outputs": [
        {
          "output_type": "stream",
          "text": [
            "Number of rows in the dataframe :  127 \n",
            " \n",
            "\n",
            "Number of NaN in each column:\n",
            " Date             0\n",
            "State/UT         0\n",
            "Reason           0\n",
            "Literacy_Rate    0\n",
            "dtype: int64\n"
          ],
          "name": "stdout"
        },
        {
          "output_type": "execute_result",
          "data": {
            "text/html": [
              "<div>\n",
              "<style scoped>\n",
              "    .dataframe tbody tr th:only-of-type {\n",
              "        vertical-align: middle;\n",
              "    }\n",
              "\n",
              "    .dataframe tbody tr th {\n",
              "        vertical-align: top;\n",
              "    }\n",
              "\n",
              "    .dataframe thead th {\n",
              "        text-align: right;\n",
              "    }\n",
              "</style>\n",
              "<table border=\"1\" class=\"dataframe\">\n",
              "  <thead>\n",
              "    <tr style=\"text-align: right;\">\n",
              "      <th></th>\n",
              "      <th>Date</th>\n",
              "      <th>State/UT</th>\n",
              "      <th>Reason</th>\n",
              "      <th>Literacy_Rate</th>\n",
              "    </tr>\n",
              "  </thead>\n",
              "  <tbody>\n",
              "    <tr>\n",
              "      <th>0</th>\n",
              "      <td>28-09-2015</td>\n",
              "      <td>Uttar Pradesh</td>\n",
              "      <td>Illegal Practice on Cow</td>\n",
              "      <td>69.0</td>\n",
              "    </tr>\n",
              "    <tr>\n",
              "      <th>1</th>\n",
              "      <td>09-10-2015</td>\n",
              "      <td>JammuAndKashmir(UT)</td>\n",
              "      <td>Illegal Practice on Cow</td>\n",
              "      <td>68.0</td>\n",
              "    </tr>\n",
              "    <tr>\n",
              "      <th>2</th>\n",
              "      <td>15-10-2015</td>\n",
              "      <td>Himachal Pradesh</td>\n",
              "      <td>Illegal Practice on Cow</td>\n",
              "      <td>83.0</td>\n",
              "    </tr>\n",
              "    <tr>\n",
              "      <th>3</th>\n",
              "      <td>13-01-2016</td>\n",
              "      <td>Madhya Pradesh</td>\n",
              "      <td>Illegal Practice on Cow</td>\n",
              "      <td>70.0</td>\n",
              "    </tr>\n",
              "    <tr>\n",
              "      <th>4</th>\n",
              "      <td>31-01-2016</td>\n",
              "      <td>Kerala</td>\n",
              "      <td>Others</td>\n",
              "      <td>93.0</td>\n",
              "    </tr>\n",
              "  </tbody>\n",
              "</table>\n",
              "</div>"
            ],
            "text/plain": [
              "         Date             State/UT                   Reason  Literacy_Rate\n",
              "0  28-09-2015        Uttar Pradesh  Illegal Practice on Cow           69.0\n",
              "1  09-10-2015  JammuAndKashmir(UT)  Illegal Practice on Cow           68.0\n",
              "2  15-10-2015     Himachal Pradesh  Illegal Practice on Cow           83.0\n",
              "3  13-01-2016       Madhya Pradesh  Illegal Practice on Cow           70.0\n",
              "4  31-01-2016               Kerala                   Others           93.0"
            ]
          },
          "metadata": {
            "tags": []
          },
          "execution_count": 142
        }
      ]
    },
    {
      "cell_type": "code",
      "metadata": {
        "id": "Y4y020uB20LI",
        "colab_type": "code",
        "colab": {
          "base_uri": "https://localhost:8080/",
          "height": 386
        },
        "outputId": "0b07de1e-b95a-4beb-d6fb-3a908d6430c6"
      },
      "source": [
        "# Frequency of mob lyncing cases in each States/UT :\n",
        "Freq_Of_Cases_Each_State = df['State/UT'].value_counts()\n",
        "Freq_Of_Cases_Each_State"
      ],
      "execution_count": 143,
      "outputs": [
        {
          "output_type": "execute_result",
          "data": {
            "text/plain": [
              "Uttar Pradesh          19\n",
              "Jharkhand              13\n",
              "West Bengal            12\n",
              "Rajasthan              12\n",
              "Madhya Pradesh         11\n",
              "Gujarat                 9\n",
              "Bihar                   8\n",
              "Maharashtra             7\n",
              "Assam                   6\n",
              "JammuAndKashmir(UT)     5\n",
              "Tripura                 4\n",
              "Haryana                 4\n",
              "Tamil Nadu              4\n",
              "Andhra Pradesh          3\n",
              "Kerala                  2\n",
              "Karnataka               2\n",
              "Delhi                   2\n",
              "Chhattisgarh            1\n",
              "Manipur                 1\n",
              "Himachal Pradesh        1\n",
              "Telangana               1\n",
              "Name: State/UT, dtype: int64"
            ]
          },
          "metadata": {
            "tags": []
          },
          "execution_count": 143
        }
      ]
    },
    {
      "cell_type": "code",
      "metadata": {
        "id": "9F21xRNa3pnW",
        "colab_type": "code",
        "colab": {
          "base_uri": "https://localhost:8080/",
          "height": 104
        },
        "outputId": "bb77696a-e747-49e7-e2da-403a71436ff1"
      },
      "source": [
        "Freq = {'Uttar Pradesh': 19,\n",
        "'Jharkhand': 13,\n",
        "'West Bengal': 12,\n",
        "'Rajasthan':12,\n",
        "'Madhya Pradesh':11,\n",
        "'Gujarat' : 9,\n",
        "'Bihar':8,\n",
        "'Maharashtra': 7,\n",
        "'Assam':6,\n",
        "'JammuAndKashmir(UT)': 5,\n",
        "'Tripura': 4,\n",
        "'Haryana': 4,\n",
        "'Tamil Nadu':4,\n",
        "'Andhra Pradesh':3,\n",
        "'Karnataka': 2,\n",
        "'Kerala' : 2,\n",
        "'Delhi': 2,\n",
        "'Chhattisgarh' : 1,\n",
        "'Himachal Pradesh': 1,\n",
        "'Manipur':1,\n",
        "'Telangana': 1}\n",
        "\n",
        "State_name = list(Freq.keys())\n",
        "print('Name of States/UT :',State_name,'\\n')\n",
        "\n",
        "Values = list(Freq.values())\n",
        "print('Freq_Of_Cases_Each_State : ',Values,'\\n')\n"
      ],
      "execution_count": 144,
      "outputs": [
        {
          "output_type": "stream",
          "text": [
            "Name of States/UT : ['Uttar Pradesh', 'Jharkhand', 'West Bengal', 'Rajasthan', 'Madhya Pradesh', 'Gujarat', 'Bihar', 'Maharashtra', 'Assam', 'JammuAndKashmir(UT)', 'Tripura', 'Haryana', 'Tamil Nadu', 'Andhra Pradesh', 'Karnataka', 'Kerala', 'Delhi', 'Chhattisgarh', 'Himachal Pradesh', 'Manipur', 'Telangana'] \n",
            "\n",
            "Freq_Of_Cases_Each_State :  [19, 13, 12, 12, 11, 9, 8, 7, 6, 5, 4, 4, 4, 3, 2, 2, 2, 1, 1, 1, 1] \n",
            "\n"
          ],
          "name": "stdout"
        }
      ]
    },
    {
      "cell_type": "code",
      "metadata": {
        "id": "F-aH9Nbfq-p-",
        "colab_type": "code",
        "colab": {
          "base_uri": "https://localhost:8080/",
          "height": 84
        },
        "outputId": "33907f9e-073b-49e0-ab97-226770ccae13"
      },
      "source": [
        "# Name of Top 5 State/UT with most frequent cases:\n",
        "from heapq import nlargest\n",
        "Top_5_names = nlargest(5, Freq , key = Freq.get) \n",
        "print('Top_5_names :',Top_5_names,'\\n')\n",
        "\n",
        "# Frequency Value of Top 5 State/UT with most frequent cases:\n",
        "Top_5 = np.array(Values)\n",
        "Top_5 = Top_5[:6]\n",
        "print('Freq_Value_of_Top_5_names :',Top_5,'\\n')\n"
      ],
      "execution_count": 145,
      "outputs": [
        {
          "output_type": "stream",
          "text": [
            "Top_5_names : ['Uttar Pradesh', 'Jharkhand', 'West Bengal', 'Rajasthan', 'Madhya Pradesh'] \n",
            "\n",
            "Freq_Value_of_Top_5_names : [19 13 12 12 11  9] \n",
            "\n"
          ],
          "name": "stdout"
        }
      ]
    },
    {
      "cell_type": "markdown",
      "metadata": {
        "id": "AnQFqrtF6aiN",
        "colab_type": "text"
      },
      "source": [
        "## **Graph** **Plotting**\n"
      ]
    },
    {
      "cell_type": "markdown",
      "metadata": {
        "id": "hXpAKypq7FC4",
        "colab_type": "text"
      },
      "source": [
        "# Find out which State/UT has the highest mob lynching cases."
      ]
    },
    {
      "cell_type": "code",
      "metadata": {
        "id": "KeKmERlC39pZ",
        "colab_type": "code",
        "colab": {
          "base_uri": "https://localhost:8080/",
          "height": 516
        },
        "outputId": "bad253cb-f7c2-4e4e-ab70-275c9ba3b9d8"
      },
      "source": [
        "fig, ax = plt.subplots(figsize=(10,6))\n",
        "ax.bar(State_name, Values,align='center',width=0.6)\n",
        "labels = ax.get_xticklabels()\n",
        "plt.style.use('seaborn')\n",
        "plt.setp(labels, rotation=90, horizontalalignment='right')\n",
        "ax.set(ylim=[0,20], xlabel='State/UT', ylabel='No of cases', title='No of Mob Lynching Cases in each States/UT')\n",
        "ax.title.set(y=1.05)"
      ],
      "execution_count": 146,
      "outputs": [
        {
          "output_type": "display_data",
          "data": {
            "image/png": "[encoded data removed]",
            "text/plain": [
              "<Figure size 720x432 with 1 Axes>"
            ]
          },
          "metadata": {
            "tags": [],
            "needs_background": "light"
          }
        }
      ]
    },
    {
      "cell_type": "markdown",
      "metadata": {
        "id": "ZuvDFsxx7fVG",
        "colab_type": "text"
      },
      "source": [
        "# Top 5 States with most mob Lynching cases\n"
      ]
    },
    {
      "cell_type": "code",
      "metadata": {
        "id": "K9Nv-x187-sv",
        "colab_type": "code",
        "colab": {
          "base_uri": "https://localhost:8080/",
          "height": 532
        },
        "outputId": "dec31c81-e423-4f7a-d759-08464ee29717"
      },
      "source": [
        "Top_5_names_index = Top_5_names.index(Top_5_names[4])\n",
        "\n",
        "fig, ax = plt.subplots(figsize=(10,6))\n",
        "ax.bar(State_name, Values,align='center',width=0.6)\n",
        "labels = ax.get_xticklabels()\n",
        "#plt.xticks(rotation = 90)\n",
        "plt.style.use('tableau-colorblind10')\n",
        "plt.setp(labels, rotation=90, horizontalalignment='right')\n",
        "ax.set(ylim=[0,20], xlabel='State/UT', ylabel='No of cases',\n",
        "       title='No of Mob Lynching Cases in each States/UT')\n",
        "ax.title.set(y=1.05)\n",
        "ax.axvline(Top_5_names_index + 0.5, ls='--', color='r')"
      ],
      "execution_count": 147,
      "outputs": [
        {
          "output_type": "execute_result",
          "data": {
            "text/plain": [
              "<matplotlib.lines.Line2D at 0x7f6910f25828>"
            ]
          },
          "metadata": {
            "tags": []
          },
          "execution_count": 147
        },
        {
          "output_type": "display_data",
          "data": {
            "image/png": "[encoded data removed]",
            "text/plain": [
              "<Figure size 720x432 with 1 Axes>"
            ]
          },
          "metadata": {
            "tags": []
          }
        }
      ]
    },
    {
      "cell_type": "code",
      "metadata": {
        "id": "hKlUYn_m22rb",
        "colab_type": "code",
        "colab": {
          "base_uri": "https://localhost:8080/",
          "height": 151
        },
        "outputId": "6414caaf-9bf0-4db5-b732-8a19e336a3d4"
      },
      "source": [
        "# Frequency of each reason in Reason Column:\n",
        "Freq_Of_Each_Reason = df['Reason'].value_counts()\n",
        "Freq_Of_Each_Reason"
      ],
      "execution_count": 148,
      "outputs": [
        {
          "output_type": "execute_result",
          "data": {
            "text/plain": [
              "Illegal Practice on Cow              42\n",
              "Child-Lifting                        29\n",
              "Others                               25\n",
              "Theft                                21\n",
              "Riot                                  4\n",
              "Braid Chopper                         3\n",
              "Heated argument turned into fight     3\n",
              "Name: Reason, dtype: int64"
            ]
          },
          "metadata": {
            "tags": []
          },
          "execution_count": 148
        }
      ]
    },
    {
      "cell_type": "markdown",
      "metadata": {
        "id": "dq5En_PKXp4O",
        "colab_type": "text"
      },
      "source": [
        "# This Function returns a graph which gives information about the Most common Reason of Mob Lynching in that state"
      ]
    },
    {
      "cell_type": "code",
      "metadata": {
        "id": "g7ArkEnbOttI",
        "colab_type": "code",
        "colab": {
          "base_uri": "https://localhost:8080/",
          "height": 67
        },
        "outputId": "facebc45-8e1d-4878-e255-243c0da11fb5"
      },
      "source": [
        "# Removing rows where Reason is Others:\n",
        "index_of_others = df[df.Reason == 'Others'].index\n",
        "index_of_others"
      ],
      "execution_count": 149,
      "outputs": [
        {
          "output_type": "execute_result",
          "data": {
            "text/plain": [
              "Int64Index([  4,   8,  16,  17,  28,  31,  47,  48,  49,  54,  56,  77,  86,\n",
              "             87,  95,  98,  99, 105, 110, 112, 113, 115, 117, 118, 123],\n",
              "           dtype='int64')"
            ]
          },
          "metadata": {
            "tags": []
          },
          "execution_count": 149
        }
      ]
    },
    {
      "cell_type": "code",
      "metadata": {
        "id": "GYqRG_Jw2W1d",
        "colab_type": "code",
        "colab": {
          "base_uri": "https://localhost:8080/",
          "height": 184
        },
        "outputId": "aa0e29cb-7778-4262-c611-3c5ba2977a3a"
      },
      "source": [
        "df.drop(df.index[index_of_others],inplace=True)\n",
        "df.reset_index(drop=True,inplace=True)\n",
        "print('Number of rows in the dataframe : ',len(df.index),'\\n \\n')\n",
        "# Frequency of each reason in Reason Column:\n",
        "Freq_Of_Each_Reason = df['Reason'].value_counts()\n",
        "Freq_Of_Each_Reason"
      ],
      "execution_count": 150,
      "outputs": [
        {
          "output_type": "stream",
          "text": [
            "Number of rows in the dataframe :  102 \n",
            " \n",
            "\n"
          ],
          "name": "stdout"
        },
        {
          "output_type": "execute_result",
          "data": {
            "text/plain": [
              "Illegal Practice on Cow              42\n",
              "Child-Lifting                        29\n",
              "Theft                                21\n",
              "Riot                                  4\n",
              "Braid Chopper                         3\n",
              "Heated argument turned into fight     3\n",
              "Name: Reason, dtype: int64"
            ]
          },
          "metadata": {
            "tags": []
          },
          "execution_count": 150
        }
      ]
    },
    {
      "cell_type": "code",
      "metadata": {
        "id": "GGlvwnu7BQXk",
        "colab_type": "code",
        "colab": {}
      },
      "source": [
        "def plotting_graph(Name):\n",
        "  State_Name = df[df['State/UT']== Name]\n",
        "  ax = State_Name['Reason'].value_counts().plot(kind='bar',figsize=(8,9),title=\"Most Common Reason\")\n",
        "  ax.set_xlabel(\"Reason\")\n",
        "  ax.set_ylabel(\"No of Cases\")"
      ],
      "execution_count": 151,
      "outputs": []
    },
    {
      "cell_type": "code",
      "metadata": {
        "id": "lTK2JC3aJLm4",
        "colab_type": "code",
        "colab": {
          "base_uri": "https://localhost:8080/",
          "height": 722
        },
        "outputId": "f2b213e2-33af-4c81-875c-719c1eff573d"
      },
      "source": [
        "Name = input('Type the Name of a State : ')\n",
        "plotting_graph(Name)"
      ],
      "execution_count": 156,
      "outputs": [
        {
          "output_type": "stream",
          "text": [
            "Type the Name of a State : Uttar Pradesh\n"
          ],
          "name": "stdout"
        },
        {
          "output_type": "display_data",
          "data": {
            "image/png": "[encoded data removed]",
            "text/plain": [
              "<Figure size 576x648 with 1 Axes>"
            ]
          },
          "metadata": {
            "tags": []
          }
        }
      ]
    },
    {
      "cell_type": "markdown",
      "metadata": {
        "id": "vTsTNKpFRo7f",
        "colab_type": "text"
      },
      "source": [
        " # All states and their most common reason for mob lynching."
      ]
    },
    {
      "cell_type": "code",
      "metadata": {
        "id": "vwwewLEwSN8W",
        "colab_type": "code",
        "colab": {
          "base_uri": "https://localhost:8080/",
          "height": 521
        },
        "outputId": "0b75821f-7049-4580-9e62-ce9961901748"
      },
      "source": [
        "import seaborn as sns\n",
        "Graph = sns.catplot('State/UT',kind='count',hue=\"Reason\",data=df,aspect=4,height=6,palette='Set2')\n",
        "Graph.set_xticklabels(rotation=90, horizontalalignment='right')"
      ],
      "execution_count": 153,
      "outputs": [
        {
          "output_type": "execute_result",
          "data": {
            "text/plain": [
              "<seaborn.axisgrid.FacetGrid at 0x7f69113d6f98>"
            ]
          },
          "metadata": {
            "tags": []
          },
          "execution_count": 153
        },
        {
          "output_type": "display_data",
          "data": {
            "image/png": "[encoded data removed]",
            "text/plain": [
              "<Figure size 1912.88x432 with 1 Axes>"
            ]
          },
          "metadata": {
            "tags": []
          }
        }
      ]
    },
    {
      "cell_type": "code",
      "metadata": {
        "id": "WmGV7UlYn5L-",
        "colab_type": "code",
        "colab": {}
      },
      "source": [
        "df.to_csv(\"myfile.csv\")"
      ],
      "execution_count": 154,
      "outputs": []
    }
  ]
}