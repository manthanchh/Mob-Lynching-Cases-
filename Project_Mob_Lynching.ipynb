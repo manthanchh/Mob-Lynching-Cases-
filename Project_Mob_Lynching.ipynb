{
  "nbformat": 4,
  "nbformat_minor": 0,
  "metadata": {
    "colab": {
      "name": "Project : Mob Lynching",
      "provenance": [],
      "collapsed_sections": []
    },
    "kernelspec": {
      "name": "python3",
      "display_name": "Python 3"
    }
  },
  "cells": [
    {
      "cell_type": "markdown",
      "metadata": {
        "id": "lx5KIXKCo3cZ",
        "colab_type": "text"
      },
      "source": [
        "# **Analysing Mob Lyching Cases in India**"
      ]
    },
    {
      "cell_type": "code",
      "metadata": {
        "id": "PExW6Tt_q1br",
        "colab_type": "code",
        "colab": {}
      },
      "source": [
        "import numpy as np\n",
        "import pandas as pd\n",
        "import matplotlib.pyplot as plt\n",
        "%matplotlib inline"
      ],
      "execution_count": null,
      "outputs": []
    },
    {
      "cell_type": "code",
      "metadata": {
        "id": "AR5zTgaHrDBD",
        "colab_type": "code",
        "colab": {
          "base_uri": "https://localhost:8080/",
          "height": 241
        },
        "outputId": "9f96a96c-459c-4ae5-d86d-5230ba4325ce"
      },
      "source": [
        "df = pd.read_csv(\"MLData.csv\")\n",
        "print('Number of rows in the dataframe : ',len(df.index),'\\n \\n')\n",
        "df.head(5)"
      ],
      "execution_count": null,
      "outputs": [
        {
          "output_type": "stream",
          "text": [
            "Number of rows in the dataframe :  141 \n",
            " \n",
            "\n"
          ],
          "name": "stdout"
        },
        {
          "output_type": "execute_result",
          "data": {
            "text/html": [
              "<div>\n",
              "<style scoped>\n",
              "    .dataframe tbody tr th:only-of-type {\n",
              "        vertical-align: middle;\n",
              "    }\n",
              "\n",
              "    .dataframe tbody tr th {\n",
              "        vertical-align: top;\n",
              "    }\n",
              "\n",
              "    .dataframe thead th {\n",
              "        text-align: right;\n",
              "    }\n",
              "</style>\n",
              "<table border=\"1\" class=\"dataframe\">\n",
              "  <thead>\n",
              "    <tr style=\"text-align: right;\">\n",
              "      <th></th>\n",
              "      <th>Name</th>\n",
              "      <th>Date</th>\n",
              "      <th>Location</th>\n",
              "      <th>State /UT</th>\n",
              "      <th>Death</th>\n",
              "      <th>Reason</th>\n",
              "    </tr>\n",
              "  </thead>\n",
              "  <tbody>\n",
              "    <tr>\n",
              "      <th>0</th>\n",
              "      <td>Mohammad Akhlaq</td>\n",
              "      <td>28-09-2015</td>\n",
              "      <td>Dadri, Uttar Pradesh</td>\n",
              "      <td>Uttar Pradesh</td>\n",
              "      <td>Yes</td>\n",
              "      <td>accusation for harming cow</td>\n",
              "    </tr>\n",
              "    <tr>\n",
              "      <th>1</th>\n",
              "      <td>Zahid Ahmad Bhat</td>\n",
              "      <td>09-10-2015</td>\n",
              "      <td>Udhampur,Jammu</td>\n",
              "      <td>JammuAndKashmir(UT)</td>\n",
              "      <td>Yes</td>\n",
              "      <td>accusation for harming cow</td>\n",
              "    </tr>\n",
              "    <tr>\n",
              "      <th>2</th>\n",
              "      <td>Noman</td>\n",
              "      <td>15-10-2015</td>\n",
              "      <td>Sarahan,Himachal Pradesh</td>\n",
              "      <td>Himachal Pradesh</td>\n",
              "      <td>Yes</td>\n",
              "      <td>accusation for harming cow</td>\n",
              "    </tr>\n",
              "    <tr>\n",
              "      <th>3</th>\n",
              "      <td>Mohamaaed Hussain</td>\n",
              "      <td>13-01-2016</td>\n",
              "      <td>Khirkiya,Madhya Pradesh</td>\n",
              "      <td>Madhya Pradesh</td>\n",
              "      <td>No</td>\n",
              "      <td>accusation for harming cow</td>\n",
              "    </tr>\n",
              "    <tr>\n",
              "      <th>4</th>\n",
              "      <td>Naseem Bano</td>\n",
              "      <td>13-01-2016</td>\n",
              "      <td>Khirkiya,Madhya Pradesh</td>\n",
              "      <td>Madhya Pradesh</td>\n",
              "      <td>No</td>\n",
              "      <td>accusation for harming cow</td>\n",
              "    </tr>\n",
              "  </tbody>\n",
              "</table>\n",
              "</div>"
            ],
            "text/plain": [
              "                Name        Date  ... Death                      Reason\n",
              "0    Mohammad Akhlaq  28-09-2015  ...   Yes  accusation for harming cow\n",
              "1   Zahid Ahmad Bhat  09-10-2015  ...   Yes  accusation for harming cow\n",
              "2              Noman  15-10-2015  ...   Yes  accusation for harming cow\n",
              "3  Mohamaaed Hussain  13-01-2016  ...    No  accusation for harming cow\n",
              "4        Naseem Bano  13-01-2016  ...    No  accusation for harming cow\n",
              "\n",
              "[5 rows x 6 columns]"
            ]
          },
          "metadata": {
            "tags": []
          },
          "execution_count": 2
        }
      ]
    },
    {
      "cell_type": "code",
      "metadata": {
        "id": "6JHlJtb_wxf5",
        "colab_type": "code",
        "colab": {
          "base_uri": "https://localhost:8080/",
          "height": 241
        },
        "outputId": "ad3549d4-d0de-4b78-d6fa-6dd14db612b1"
      },
      "source": [
        "# Removing Meaningless Rows\n",
        "df.drop(df.index[[4,7,12,73]],inplace=True)\n",
        "df.reset_index(drop=True,inplace=True)\n",
        "print('Number of rows in the dataframe : ',len(df.index),'\\n \\n')\n",
        "df.head(5)"
      ],
      "execution_count": null,
      "outputs": [
        {
          "output_type": "stream",
          "text": [
            "Number of rows in the dataframe :  137 \n",
            " \n",
            "\n"
          ],
          "name": "stdout"
        },
        {
          "output_type": "execute_result",
          "data": {
            "text/html": [
              "<div>\n",
              "<style scoped>\n",
              "    .dataframe tbody tr th:only-of-type {\n",
              "        vertical-align: middle;\n",
              "    }\n",
              "\n",
              "    .dataframe tbody tr th {\n",
              "        vertical-align: top;\n",
              "    }\n",
              "\n",
              "    .dataframe thead th {\n",
              "        text-align: right;\n",
              "    }\n",
              "</style>\n",
              "<table border=\"1\" class=\"dataframe\">\n",
              "  <thead>\n",
              "    <tr style=\"text-align: right;\">\n",
              "      <th></th>\n",
              "      <th>Name</th>\n",
              "      <th>Date</th>\n",
              "      <th>Location</th>\n",
              "      <th>State /UT</th>\n",
              "      <th>Death</th>\n",
              "      <th>Reason</th>\n",
              "    </tr>\n",
              "  </thead>\n",
              "  <tbody>\n",
              "    <tr>\n",
              "      <th>0</th>\n",
              "      <td>Mohammad Akhlaq</td>\n",
              "      <td>28-09-2015</td>\n",
              "      <td>Dadri, Uttar Pradesh</td>\n",
              "      <td>Uttar Pradesh</td>\n",
              "      <td>Yes</td>\n",
              "      <td>accusation for harming cow</td>\n",
              "    </tr>\n",
              "    <tr>\n",
              "      <th>1</th>\n",
              "      <td>Zahid Ahmad Bhat</td>\n",
              "      <td>09-10-2015</td>\n",
              "      <td>Udhampur,Jammu</td>\n",
              "      <td>JammuAndKashmir(UT)</td>\n",
              "      <td>Yes</td>\n",
              "      <td>accusation for harming cow</td>\n",
              "    </tr>\n",
              "    <tr>\n",
              "      <th>2</th>\n",
              "      <td>Noman</td>\n",
              "      <td>15-10-2015</td>\n",
              "      <td>Sarahan,Himachal Pradesh</td>\n",
              "      <td>Himachal Pradesh</td>\n",
              "      <td>Yes</td>\n",
              "      <td>accusation for harming cow</td>\n",
              "    </tr>\n",
              "    <tr>\n",
              "      <th>3</th>\n",
              "      <td>Mohamaaed Hussain</td>\n",
              "      <td>13-01-2016</td>\n",
              "      <td>Khirkiya,Madhya Pradesh</td>\n",
              "      <td>Madhya Pradesh</td>\n",
              "      <td>No</td>\n",
              "      <td>accusation for harming cow</td>\n",
              "    </tr>\n",
              "    <tr>\n",
              "      <th>4</th>\n",
              "      <td>Manakkadu Veetil Shabeer</td>\n",
              "      <td>31-01-2016</td>\n",
              "      <td>Attingal,Kerala</td>\n",
              "      <td>Kerala</td>\n",
              "      <td>Yes</td>\n",
              "      <td>other cases</td>\n",
              "    </tr>\n",
              "  </tbody>\n",
              "</table>\n",
              "</div>"
            ],
            "text/plain": [
              "                       Name        Date  ... Death                      Reason\n",
              "0           Mohammad Akhlaq  28-09-2015  ...   Yes  accusation for harming cow\n",
              "1          Zahid Ahmad Bhat  09-10-2015  ...   Yes  accusation for harming cow\n",
              "2                     Noman  15-10-2015  ...   Yes  accusation for harming cow\n",
              "3         Mohamaaed Hussain  13-01-2016  ...    No  accusation for harming cow\n",
              "4  Manakkadu Veetil Shabeer  31-01-2016  ...   Yes                 other cases\n",
              "\n",
              "[5 rows x 6 columns]"
            ]
          },
          "metadata": {
            "tags": []
          },
          "execution_count": 3
        }
      ]
    },
    {
      "cell_type": "code",
      "metadata": {
        "id": "d3cCtkINx4oX",
        "colab_type": "code",
        "colab": {
          "base_uri": "https://localhost:8080/",
          "height": 75
        },
        "outputId": "e8ef5eb9-585f-4797-a43b-a45a2eb07c43"
      },
      "source": [
        "# Changing the Names of the coulumns:\n",
        "df.columns = ['Victim\\'s Name','Date','Location','State/UT','Died','Reason']\n",
        "df.head(1)"
      ],
      "execution_count": null,
      "outputs": [
        {
          "output_type": "execute_result",
          "data": {
            "text/html": [
              "<div>\n",
              "<style scoped>\n",
              "    .dataframe tbody tr th:only-of-type {\n",
              "        vertical-align: middle;\n",
              "    }\n",
              "\n",
              "    .dataframe tbody tr th {\n",
              "        vertical-align: top;\n",
              "    }\n",
              "\n",
              "    .dataframe thead th {\n",
              "        text-align: right;\n",
              "    }\n",
              "</style>\n",
              "<table border=\"1\" class=\"dataframe\">\n",
              "  <thead>\n",
              "    <tr style=\"text-align: right;\">\n",
              "      <th></th>\n",
              "      <th>Victim's Name</th>\n",
              "      <th>Date</th>\n",
              "      <th>Location</th>\n",
              "      <th>State/UT</th>\n",
              "      <th>Died</th>\n",
              "      <th>Reason</th>\n",
              "    </tr>\n",
              "  </thead>\n",
              "  <tbody>\n",
              "    <tr>\n",
              "      <th>0</th>\n",
              "      <td>Mohammad Akhlaq</td>\n",
              "      <td>28-09-2015</td>\n",
              "      <td>Dadri, Uttar Pradesh</td>\n",
              "      <td>Uttar Pradesh</td>\n",
              "      <td>Yes</td>\n",
              "      <td>accusation for harming cow</td>\n",
              "    </tr>\n",
              "  </tbody>\n",
              "</table>\n",
              "</div>"
            ],
            "text/plain": [
              "     Victim's Name        Date  ... Died                      Reason\n",
              "0  Mohammad Akhlaq  28-09-2015  ...  Yes  accusation for harming cow\n",
              "\n",
              "[1 rows x 6 columns]"
            ]
          },
          "metadata": {
            "tags": []
          },
          "execution_count": 4
        }
      ]
    },
    {
      "cell_type": "code",
      "metadata": {
        "id": "PjwrkDyryPba",
        "colab_type": "code",
        "colab": {}
      },
      "source": [
        "# Adding Literacy Rate of a State column:\n",
        "df['Literacy_Rate'] = df['State/UT']\n",
        "def f(x):\n",
        "  if x == 'Uttar Pradesh':\n",
        "    return 69;\n",
        "  elif x == 'Gujarat':\n",
        "    return 79;\n",
        "  elif x == 'Rajasthan':\n",
        "    return 67;\n",
        "  elif x == 'Jharkhand':\n",
        "    return 67;\n",
        "  elif x == 'West Bengal':\n",
        "    return 77;\n",
        "  elif x == 'Madhya Pradesh':\n",
        "    return 70;\n",
        "  elif x == 'Bihar':\n",
        "    return 63;\n",
        "  elif x == 'Assam':\n",
        "    return 73;\n",
        "  elif x == 'Maharashtra':\n",
        "    return 82;\n",
        "  elif x == 'JammuAndKashmir(UT)':\n",
        "    return 68;\n",
        "  elif x == 'Tripura':\n",
        "    return 87;\n",
        "  elif x == 'Haryana':\n",
        "    return 76;\n",
        "  elif x == 'Tamil Nadu':\n",
        "    return 80;\n",
        "  elif x == 'Karnataka':\n",
        "    return 75;\n",
        "  elif x == 'Andhra Pradesh':\n",
        "    return 67;\n",
        "  elif x == 'Delhi':\n",
        "    return 86;\n",
        "  elif x == 'Kerala':\n",
        "    return 93;\n",
        "  elif x == 'Himachal Pradesh':\n",
        "    return 83;\n",
        "  elif x == 'Chhattisgarh':\n",
        "    return 71;\n",
        "  elif x == 'Manipur':\n",
        "    return 79;\n",
        "  elif x == 'Telangana':\n",
        "    return 66;\n",
        "df['Literacy_Rate'] = df.Literacy_Rate.apply(f)"
      ],
      "execution_count": null,
      "outputs": []
    },
    {
      "cell_type": "code",
      "metadata": {
        "id": "1fnTXMNGyjCK",
        "colab_type": "code",
        "colab": {}
      },
      "source": [
        "# Correcting Reason column:\n",
        "def f(a):\n",
        "  if a == 'accusation for harming cow':\n",
        "    return 'Illegal Practice on Cow';\n",
        "  elif a == 'Child-Lifter':\n",
        "    return 'Child-Lifting';\n",
        "  elif a == 'suspicious of Theft':\n",
        "    return 'Theft'\n",
        "  elif a == 'caste voilence ':\n",
        "    return 'Caste Voilence on them';\n",
        "  elif a == 'riot':\n",
        "    return 'Riot';\n",
        "  elif a == 'fight':\n",
        "    return 'Heated argument turned into fight';\n",
        "  elif a == 'braid chopper':\n",
        "    return 'Braid Chopper';\n",
        "  elif a == 'other cases':\n",
        "    return 'Others';\n",
        "\n",
        "df['Reason'] = df.Reason.apply(f)"
      ],
      "execution_count": null,
      "outputs": []
    },
    {
      "cell_type": "code",
      "metadata": {
        "id": "hEwsMNgXyxC1",
        "colab_type": "code",
        "colab": {
          "base_uri": "https://localhost:8080/",
          "height": 201
        },
        "outputId": "199faafc-9908-45c6-d3b7-057ddd321fb9"
      },
      "source": [
        "# Checking Null Value Rows:\n",
        "print('Number of rows in the dataframe : ',len(df.index),'\\n \\n')\n",
        "df.isnull().sum()"
      ],
      "execution_count": null,
      "outputs": [
        {
          "output_type": "stream",
          "text": [
            "Number of rows in the dataframe :  137 \n",
            " \n",
            "\n"
          ],
          "name": "stdout"
        },
        {
          "output_type": "execute_result",
          "data": {
            "text/plain": [
              "Victim's Name    26\n",
              "Date              0\n",
              "Location          0\n",
              "State/UT          1\n",
              "Died              9\n",
              "Reason            9\n",
              "Literacy_Rate     1\n",
              "dtype: int64"
            ]
          },
          "metadata": {
            "tags": []
          },
          "execution_count": 7
        }
      ]
    },
    {
      "cell_type": "code",
      "metadata": {
        "id": "u63RhTnKy9cI",
        "colab_type": "code",
        "colab": {
          "base_uri": "https://localhost:8080/",
          "height": 325
        },
        "outputId": "3f217d5f-a27e-414a-b306-1dfbc0604c5e"
      },
      "source": [
        "# Removing Meaningless columns:\n",
        "df.drop(['Victim\\'s Name','Location','Died'],axis=1,inplace=True)\n",
        "df.reset_index(drop=True,inplace=True)\n",
        "print('Number of rows in the dataframe : ',len(df.index),'\\n \\n')\n",
        "print(df.isnull().sum())\n",
        "df.head(5)"
      ],
      "execution_count": null,
      "outputs": [
        {
          "output_type": "stream",
          "text": [
            "Number of rows in the dataframe :  137 \n",
            " \n",
            "\n",
            "Date             0\n",
            "State/UT         1\n",
            "Reason           9\n",
            "Literacy_Rate    1\n",
            "dtype: int64\n"
          ],
          "name": "stdout"
        },
        {
          "output_type": "execute_result",
          "data": {
            "text/html": [
              "<div>\n",
              "<style scoped>\n",
              "    .dataframe tbody tr th:only-of-type {\n",
              "        vertical-align: middle;\n",
              "    }\n",
              "\n",
              "    .dataframe tbody tr th {\n",
              "        vertical-align: top;\n",
              "    }\n",
              "\n",
              "    .dataframe thead th {\n",
              "        text-align: right;\n",
              "    }\n",
              "</style>\n",
              "<table border=\"1\" class=\"dataframe\">\n",
              "  <thead>\n",
              "    <tr style=\"text-align: right;\">\n",
              "      <th></th>\n",
              "      <th>Date</th>\n",
              "      <th>State/UT</th>\n",
              "      <th>Reason</th>\n",
              "      <th>Literacy_Rate</th>\n",
              "    </tr>\n",
              "  </thead>\n",
              "  <tbody>\n",
              "    <tr>\n",
              "      <th>0</th>\n",
              "      <td>28-09-2015</td>\n",
              "      <td>Uttar Pradesh</td>\n",
              "      <td>Illegal Practice on Cow</td>\n",
              "      <td>69.0</td>\n",
              "    </tr>\n",
              "    <tr>\n",
              "      <th>1</th>\n",
              "      <td>09-10-2015</td>\n",
              "      <td>JammuAndKashmir(UT)</td>\n",
              "      <td>Illegal Practice on Cow</td>\n",
              "      <td>68.0</td>\n",
              "    </tr>\n",
              "    <tr>\n",
              "      <th>2</th>\n",
              "      <td>15-10-2015</td>\n",
              "      <td>Himachal Pradesh</td>\n",
              "      <td>Illegal Practice on Cow</td>\n",
              "      <td>83.0</td>\n",
              "    </tr>\n",
              "    <tr>\n",
              "      <th>3</th>\n",
              "      <td>13-01-2016</td>\n",
              "      <td>Madhya Pradesh</td>\n",
              "      <td>Illegal Practice on Cow</td>\n",
              "      <td>70.0</td>\n",
              "    </tr>\n",
              "    <tr>\n",
              "      <th>4</th>\n",
              "      <td>31-01-2016</td>\n",
              "      <td>Kerala</td>\n",
              "      <td>Others</td>\n",
              "      <td>93.0</td>\n",
              "    </tr>\n",
              "  </tbody>\n",
              "</table>\n",
              "</div>"
            ],
            "text/plain": [
              "         Date             State/UT                   Reason  Literacy_Rate\n",
              "0  28-09-2015        Uttar Pradesh  Illegal Practice on Cow           69.0\n",
              "1  09-10-2015  JammuAndKashmir(UT)  Illegal Practice on Cow           68.0\n",
              "2  15-10-2015     Himachal Pradesh  Illegal Practice on Cow           83.0\n",
              "3  13-01-2016       Madhya Pradesh  Illegal Practice on Cow           70.0\n",
              "4  31-01-2016               Kerala                   Others           93.0"
            ]
          },
          "metadata": {
            "tags": []
          },
          "execution_count": 8
        }
      ]
    },
    {
      "cell_type": "code",
      "metadata": {
        "id": "dSUafu4rzYib",
        "colab_type": "code",
        "colab": {
          "base_uri": "https://localhost:8080/",
          "height": 33
        },
        "outputId": "8869a761-a78a-4802-bab6-a4422b2f9a3a"
      },
      "source": [
        "# To check the index of a row containing a Null Value\n",
        "df[df['Literacy_Rate'].isnull()].index.tolist()"
      ],
      "execution_count": null,
      "outputs": [
        {
          "output_type": "execute_result",
          "data": {
            "text/plain": [
              "[59]"
            ]
          },
          "metadata": {
            "tags": []
          },
          "execution_count": 9
        }
      ]
    },
    {
      "cell_type": "code",
      "metadata": {
        "id": "0PnXJpqs0R2w",
        "colab_type": "code",
        "colab": {
          "base_uri": "https://localhost:8080/",
          "height": 342
        },
        "outputId": "0fc362d1-4934-41a6-f3f2-911b5bed2434"
      },
      "source": [
        "# Removing rows with NaN values:\n",
        "df.dropna(inplace=True)\n",
        "df.reset_index(drop=True,inplace=True)\n",
        "print('Number of rows in the dataframe : ',len(df.index),'\\n \\n')\n",
        "print('Number of NaN in each column:\\n',df.isnull().sum())\n",
        "df.head()"
      ],
      "execution_count": null,
      "outputs": [
        {
          "output_type": "stream",
          "text": [
            "Number of rows in the dataframe :  127 \n",
            " \n",
            "\n",
            "Number of NaN in each column:\n",
            " Date             0\n",
            "State/UT         0\n",
            "Reason           0\n",
            "Literacy_Rate    0\n",
            "dtype: int64\n"
          ],
          "name": "stdout"
        },
        {
          "output_type": "execute_result",
          "data": {
            "text/html": [
              "<div>\n",
              "<style scoped>\n",
              "    .dataframe tbody tr th:only-of-type {\n",
              "        vertical-align: middle;\n",
              "    }\n",
              "\n",
              "    .dataframe tbody tr th {\n",
              "        vertical-align: top;\n",
              "    }\n",
              "\n",
              "    .dataframe thead th {\n",
              "        text-align: right;\n",
              "    }\n",
              "</style>\n",
              "<table border=\"1\" class=\"dataframe\">\n",
              "  <thead>\n",
              "    <tr style=\"text-align: right;\">\n",
              "      <th></th>\n",
              "      <th>Date</th>\n",
              "      <th>State/UT</th>\n",
              "      <th>Reason</th>\n",
              "      <th>Literacy_Rate</th>\n",
              "    </tr>\n",
              "  </thead>\n",
              "  <tbody>\n",
              "    <tr>\n",
              "      <th>0</th>\n",
              "      <td>28-09-2015</td>\n",
              "      <td>Uttar Pradesh</td>\n",
              "      <td>Illegal Practice on Cow</td>\n",
              "      <td>69.0</td>\n",
              "    </tr>\n",
              "    <tr>\n",
              "      <th>1</th>\n",
              "      <td>09-10-2015</td>\n",
              "      <td>JammuAndKashmir(UT)</td>\n",
              "      <td>Illegal Practice on Cow</td>\n",
              "      <td>68.0</td>\n",
              "    </tr>\n",
              "    <tr>\n",
              "      <th>2</th>\n",
              "      <td>15-10-2015</td>\n",
              "      <td>Himachal Pradesh</td>\n",
              "      <td>Illegal Practice on Cow</td>\n",
              "      <td>83.0</td>\n",
              "    </tr>\n",
              "    <tr>\n",
              "      <th>3</th>\n",
              "      <td>13-01-2016</td>\n",
              "      <td>Madhya Pradesh</td>\n",
              "      <td>Illegal Practice on Cow</td>\n",
              "      <td>70.0</td>\n",
              "    </tr>\n",
              "    <tr>\n",
              "      <th>4</th>\n",
              "      <td>31-01-2016</td>\n",
              "      <td>Kerala</td>\n",
              "      <td>Others</td>\n",
              "      <td>93.0</td>\n",
              "    </tr>\n",
              "  </tbody>\n",
              "</table>\n",
              "</div>"
            ],
            "text/plain": [
              "         Date             State/UT                   Reason  Literacy_Rate\n",
              "0  28-09-2015        Uttar Pradesh  Illegal Practice on Cow           69.0\n",
              "1  09-10-2015  JammuAndKashmir(UT)  Illegal Practice on Cow           68.0\n",
              "2  15-10-2015     Himachal Pradesh  Illegal Practice on Cow           83.0\n",
              "3  13-01-2016       Madhya Pradesh  Illegal Practice on Cow           70.0\n",
              "4  31-01-2016               Kerala                   Others           93.0"
            ]
          },
          "metadata": {
            "tags": []
          },
          "execution_count": 10
        }
      ]
    },
    {
      "cell_type": "code",
      "metadata": {
        "id": "Y4y020uB20LI",
        "colab_type": "code",
        "colab": {
          "base_uri": "https://localhost:8080/",
          "height": 386
        },
        "outputId": "6ca57cd8-6952-40e9-c03e-72f812263f3a"
      },
      "source": [
        "# Frequency of mob lyncing cases in each States/UT :\n",
        "Freq_Of_Cases_Each_State = df['State/UT'].value_counts()\n",
        "Freq_Of_Cases_Each_State"
      ],
      "execution_count": null,
      "outputs": [
        {
          "output_type": "execute_result",
          "data": {
            "text/plain": [
              "Uttar Pradesh          19\n",
              "Jharkhand              13\n",
              "West Bengal            12\n",
              "Rajasthan              12\n",
              "Madhya Pradesh         11\n",
              "Gujarat                 9\n",
              "Bihar                   8\n",
              "Maharashtra             7\n",
              "Assam                   6\n",
              "JammuAndKashmir(UT)     5\n",
              "Tamil Nadu              4\n",
              "Tripura                 4\n",
              "Haryana                 4\n",
              "Andhra Pradesh          3\n",
              "Delhi                   2\n",
              "Kerala                  2\n",
              "Karnataka               2\n",
              "Telangana               1\n",
              "Himachal Pradesh        1\n",
              "Manipur                 1\n",
              "Chhattisgarh            1\n",
              "Name: State/UT, dtype: int64"
            ]
          },
          "metadata": {
            "tags": []
          },
          "execution_count": 11
        }
      ]
    },
    {
      "cell_type": "code",
      "metadata": {
        "id": "9F21xRNa3pnW",
        "colab_type": "code",
        "colab": {
          "base_uri": "https://localhost:8080/",
          "height": 171
        },
        "outputId": "19c0383f-3095-4207-959a-c78fa2da3d5f"
      },
      "source": [
        "Freq = {'Uttar Pradesh': 19,\n",
        "'Jharkhand': 13,\n",
        "'West Bengal': 12,\n",
        "'Rajasthan':12,\n",
        "'Madhya Pradesh':11,\n",
        "'Gujarat' : 9,\n",
        "'Bihar':8,\n",
        "'Maharashtra': 7,\n",
        "'Assam':6,\n",
        "'JammuAndKashmir(UT)': 5,\n",
        "'Tripura': 4,\n",
        "'Haryana': 4,\n",
        "'Tamil Nadu':4,\n",
        "'Andhra Pradesh':3,\n",
        "'Karnataka': 2,\n",
        "'Kerala' : 2,\n",
        "'Delhi': 2,\n",
        "'Chhattisgarh' : 1,\n",
        "'Himachal Pradesh': 1,\n",
        "'Manipur':1,\n",
        "'Telangana': 1}\n",
        "\n",
        "State_name = list(Freq.keys())\n",
        "print('Name of States/UT :',State_name,'\\n')\n",
        "\n",
        "Values = list(Freq.values())\n",
        "print('Freq_Of_Cases_Each_State : ',Values,'\\n')\n",
        "\n",
        "# Name of Top 5 State/UT with most frequent cases:\n",
        "from heapq import nlargest\n",
        "Top_5_names = nlargest(5, Freq , key = Freq.get) \n",
        "print('Top_5_names :',Top_5_names,'\\n')\n",
        "\n",
        "# Frequency Value of Top 5 State/UT with most frequent cases:\n",
        "Top_5 = np.array(Values)\n",
        "Top_5 = Top_5[:6]\n",
        "print('Freq_Value_of_Top_5_names :',Top_5,'\\n')\n"
      ],
      "execution_count": null,
      "outputs": [
        {
          "output_type": "stream",
          "text": [
            "Name of States/UT : ['Uttar Pradesh', 'Jharkhand', 'West Bengal', 'Rajasthan', 'Madhya Pradesh', 'Gujarat', 'Bihar', 'Maharashtra', 'Assam', 'JammuAndKashmir(UT)', 'Tripura', 'Haryana', 'Tamil Nadu', 'Andhra Pradesh', 'Karnataka', 'Kerala', 'Delhi', 'Chhattisgarh', 'Himachal Pradesh', 'Manipur', 'Telangana'] \n",
            "\n",
            "Freq_Of_Cases_Each_State :  [19, 13, 12, 12, 11, 9, 8, 7, 6, 5, 4, 4, 4, 3, 2, 2, 2, 1, 1, 1, 1] \n",
            "\n",
            "Top_5_names : ['Uttar Pradesh', 'Jharkhand', 'West Bengal', 'Rajasthan', 'Madhya Pradesh'] \n",
            "\n",
            "Freq_Value_of_Top_5_names : [19 13 12 12 11  9] \n",
            "\n"
          ],
          "name": "stdout"
        }
      ]
    },
    {
      "cell_type": "markdown",
      "metadata": {
        "id": "AnQFqrtF6aiN",
        "colab_type": "text"
      },
      "source": [
        "## **Graph** **Plotting**\n"
      ]
    },
    {
      "cell_type": "markdown",
      "metadata": {
        "id": "hXpAKypq7FC4",
        "colab_type": "text"
      },
      "source": [
        "# Find out which State/UT has the highest mob lynching cases."
      ]
    },
    {
      "cell_type": "code",
      "metadata": {
        "id": "KeKmERlC39pZ",
        "colab_type": "code",
        "colab": {
          "base_uri": "https://localhost:8080/",
          "height": 516
        },
        "outputId": "f24f3ad2-810b-442e-c62e-e310f27ca6fb"
      },
      "source": [
        "fig, ax = plt.subplots(figsize=(10,6))\n",
        "ax.bar(State_name, Values,align='center',width=0.6)\n",
        "labels = ax.get_xticklabels()\n",
        "plt.style.use('seaborn')\n",
        "plt.setp(labels, rotation=90, horizontalalignment='right')\n",
        "ax.set(ylim=[0,20], xlabel='State/UT', ylabel='No of cases', title='No of Mob Lynching Cases in each States/UT')\n",
        "ax.title.set(y=1.05)"
      ],
      "execution_count": null,
      "outputs": [
        {
          "output_type": "display_data",
          "data": {
            "image/png": "[encoded data removed]",
            "text/plain": [
              "<Figure size 720x432 with 1 Axes>"
            ]
          },
          "metadata": {
            "tags": [],
            "needs_background": "light"
          }
        }
      ]
    },
    {
      "cell_type": "markdown",
      "metadata": {
        "id": "ZuvDFsxx7fVG",
        "colab_type": "text"
      },
      "source": [
        "# Top 5 States with most mob Lynching cases\n"
      ]
    },
    {
      "cell_type": "code",
      "metadata": {
        "id": "K9Nv-x187-sv",
        "colab_type": "code",
        "colab": {
          "base_uri": "https://localhost:8080/",
          "height": 532
        },
        "outputId": "76058f77-f3dd-4139-90c5-6d7d6c5c4ac8"
      },
      "source": [
        "Top_5_names_index = Top_5_names.index(Top_5_names[4])\n",
        "\n",
        "fig, ax = plt.subplots(figsize=(10,6))\n",
        "ax.bar(State_name, Values,align='center',width=0.6)\n",
        "labels = ax.get_xticklabels()\n",
        "#plt.xticks(rotation = 90)\n",
        "plt.style.use('tableau-colorblind10')\n",
        "plt.setp(labels, rotation=90, horizontalalignment='right')\n",
        "ax.set(ylim=[0,20], xlabel='State/UT', ylabel='No of cases',\n",
        "       title='No of Mob Lynching Cases in each States/UT')\n",
        "ax.title.set(y=1.05)\n",
        "ax.axvline(Top_5_names_index + 0.5, ls='--', color='r')"
      ],
      "execution_count": null,
      "outputs": [
        {
          "output_type": "execute_result",
          "data": {
            "text/plain": [
              "<matplotlib.lines.Line2D at 0x7ff5ef620c88>"
            ]
          },
          "metadata": {
            "tags": []
          },
          "execution_count": 14
        },
        {
          "output_type": "display_data",
          "data": {
            "image/png": "[encoded data removed]",
            "text/plain": [
              "<Figure size 720x432 with 1 Axes>"
            ]
          },
          "metadata": {
            "tags": []
          }
        }
      ]
    },
    {
      "cell_type": "code",
      "metadata": {
        "id": "hKlUYn_m22rb",
        "colab_type": "code",
        "colab": {
          "base_uri": "https://localhost:8080/",
          "height": 151
        },
        "outputId": "377613a5-2d36-47bb-82dc-85e083f89378"
      },
      "source": [
        "# Frequency of each reason in Reason Column:\n",
        "Freq_Of_Each_Reason = df['Reason'].value_counts()\n",
        "Freq_Of_Each_Reason"
      ],
      "execution_count": null,
      "outputs": [
        {
          "output_type": "execute_result",
          "data": {
            "text/plain": [
              "Illegal Practice on Cow              42\n",
              "Child-Lifting                        29\n",
              "Others                               25\n",
              "Theft                                21\n",
              "Riot                                  4\n",
              "Braid Chopper                         3\n",
              "Heated argument turned into fight     3\n",
              "Name: Reason, dtype: int64"
            ]
          },
          "metadata": {
            "tags": []
          },
          "execution_count": 15
        }
      ]
    },
    {
      "cell_type": "markdown",
      "metadata": {
        "id": "dq5En_PKXp4O",
        "colab_type": "text"
      },
      "source": [
        "# This Function return a graph which give information about the Most common Reason of Mob Lynching in that state\n"
      ]
    },
    {
      "cell_type": "code",
      "metadata": {
        "id": "g7ArkEnbOttI",
        "colab_type": "code",
        "colab": {
          "base_uri": "https://localhost:8080/",
          "height": 67
        },
        "outputId": "90e36f51-30f8-458e-e934-914a7fe20e43"
      },
      "source": [
        "# Removing rows where Reason is Others:\n",
        "index_of_others = df[df.Reason == 'Others'].index\n",
        "index_of_others"
      ],
      "execution_count": null,
      "outputs": [
        {
          "output_type": "execute_result",
          "data": {
            "text/plain": [
              "Int64Index([  4,   8,  16,  17,  28,  31,  47,  48,  49,  54,  56,  77,  86,\n",
              "             87,  95,  98,  99, 105, 110, 112, 113, 115, 117, 118, 123],\n",
              "           dtype='int64')"
            ]
          },
          "metadata": {
            "tags": []
          },
          "execution_count": 16
        }
      ]
    },
    {
      "cell_type": "code",
      "metadata": {
        "id": "GYqRG_Jw2W1d",
        "colab_type": "code",
        "colab": {
          "base_uri": "https://localhost:8080/",
          "height": 184
        },
        "outputId": "aef94167-8129-4dd9-9031-9b9d12b8d803"
      },
      "source": [
        "df.drop(df.index[index_of_others],inplace=True)\n",
        "df.reset_index(drop=True,inplace=True)\n",
        "print('Number of rows in the dataframe : ',len(df.index),'\\n \\n')\n",
        "# Frequency of each reason in Reason Column:\n",
        "Freq_Of_Each_Reason = df['Reason'].value_counts()\n",
        "Freq_Of_Each_Reason"
      ],
      "execution_count": null,
      "outputs": [
        {
          "output_type": "stream",
          "text": [
            "Number of rows in the dataframe :  102 \n",
            " \n",
            "\n"
          ],
          "name": "stdout"
        },
        {
          "output_type": "execute_result",
          "data": {
            "text/plain": [
              "Illegal Practice on Cow              42\n",
              "Child-Lifting                        29\n",
              "Theft                                21\n",
              "Riot                                  4\n",
              "Braid Chopper                         3\n",
              "Heated argument turned into fight     3\n",
              "Name: Reason, dtype: int64"
            ]
          },
          "metadata": {
            "tags": []
          },
          "execution_count": 17
        }
      ]
    },
    {
      "cell_type": "code",
      "metadata": {
        "id": "GGlvwnu7BQXk",
        "colab_type": "code",
        "colab": {}
      },
      "source": [
        "def plotting_graph(Name):\n",
        "  State_Name = df[df['State/UT']== Name]\n",
        "  Freq_Of_Reason = State_Name['Reason'].value_counts()\n",
        "  keys_name = list(set(State_Name['Reason'])) \n",
        "  Freq_dict = {}\n",
        "  for i in range(len(keys_name)):\n",
        "    Freq_dict.update( {keys_name[i] : Freq_Of_Reason[i] } )\n",
        "  Freq_dict\n",
        "  \n",
        "  Reason_name = list(Freq_dict.keys())\n",
        "  print('Name of Reason :',Reason_name,'\\n')\n",
        "\n",
        "  Reason_value = list(Freq_dict.values())\n",
        "  print('Values :',Reason_value,'\\n')\n",
        "\n",
        "  def func(Reason_name,Reason_value):\n",
        "    fig, ax = plt.subplots(figsize=(6,6))\n",
        "    ax.bar(Reason_name, Reason_value,align='center',width=0.6)\n",
        "    labels = ax.get_xticklabels()\n",
        "    plt.style.use('seaborn')\n",
        "    plt.setp(labels, rotation=90, horizontalalignment='right')\n",
        "    ax.set(ylim=[0,8], xlabel='Reasons', ylabel='No of cases', title='Most Common Reason')\n",
        "    ax.title.set(y=1.05)\n",
        "    \n",
        "\n",
        "\n",
        "  return func(Reason_name,Reason_value)"
      ],
      "execution_count": null,
      "outputs": []
    },
    {
      "cell_type": "code",
      "metadata": {
        "id": "lTK2JC3aJLm4",
        "colab_type": "code",
        "colab": {
          "base_uri": "https://localhost:8080/",
          "height": 642
        },
        "outputId": "69433400-c60c-4fbe-bbbb-3f44d9838160"
      },
      "source": [
        "Name = input('Type the Name of a State : ')\n",
        "plotting_graph(Name)"
      ],
      "execution_count": null,
      "outputs": [
        {
          "output_type": "stream",
          "text": [
            "Type the Name of a State : Uttar Pradesh\n",
            "Name of Reason : ['Illegal Practice on Cow', 'Braid Chopper', 'Riot', 'Heated argument turned into fight', 'Theft', 'Child-Lifting'] \n",
            "\n",
            "Values : [4, 4, 3, 2, 1, 1] \n",
            "\n"
          ],
          "name": "stdout"
        },
        {
          "output_type": "display_data",
          "data": {
            "image/png": "[encoded data removed]",
            "text/plain": [
              "<Figure size 432x432 with 1 Axes>"
            ]
          },
          "metadata": {
            "tags": []
          }
        }
      ]
    },
    {
      "cell_type": "markdown",
      "metadata": {
        "id": "vTsTNKpFRo7f",
        "colab_type": "text"
      },
      "source": [
        " # All states and theirs most common reason of mob lynching."
      ]
    },
    {
      "cell_type": "code",
      "metadata": {
        "id": "vwwewLEwSN8W",
        "colab_type": "code",
        "colab": {
          "base_uri": "https://localhost:8080/",
          "height": 543
        },
        "outputId": "bff71472-a922-4b8e-d390-884e06fc0ade"
      },
      "source": [
        "import seaborn as sns\n",
        "Graph = sns.catplot('State/UT',kind='count',hue=\"Reason\",data=df,aspect=4,height=6,palette='Set2')\n",
        "Graph.set_xticklabels(rotation=90, horizontalalignment='right')"
      ],
      "execution_count": null,
      "outputs": [
        {
          "output_type": "execute_result",
          "data": {
            "text/plain": [
              "<seaborn.axisgrid.FacetGrid at 0x7ff5e22e4198>"
            ]
          },
          "metadata": {
            "tags": []
          },
          "execution_count": 21
        },
        {
          "output_type": "display_data",
          "data": {
            "image/png": "[encoded data removed]",
            "text/plain": [
              "<Figure size 1912.88x432 with 1 Axes>"
            ]
          },
          "metadata": {
            "tags": []
          }
        }
      ]
    },
    {
      "cell_type": "code",
      "metadata": {
        "id": "WmGV7UlYn5L-",
        "colab_type": "code",
        "colab": {}
      },
      "source": [
        "df.to_csv(\"myfile.csv\")"
      ],
      "execution_count": null,
      "outputs": []
    }
  ]
}
